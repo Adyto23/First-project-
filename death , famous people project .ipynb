{
 "cells": [
  {
   "cell_type": "code",
   "execution_count": 1,
   "id": "3f7562e1",
   "metadata": {},
   "outputs": [],
   "source": [
    "import pandas as pd\n",
    "import seaborn as sns\n",
    "import matplotlib.pyplot as plt\n",
    "import numpy as np\n"
   ]
  },
  {
   "cell_type": "code",
   "execution_count": 2,
   "id": "9c0afbf0",
   "metadata": {},
   "outputs": [],
   "source": [
    "## upload CSV"
   ]
  },
  {
   "cell_type": "code",
   "execution_count": 3,
   "id": "0100e550",
   "metadata": {},
   "outputs": [
    {
     "data": {
      "text/plain": [
       "Artist                281512\n",
       "Politician            195390\n",
       "Athlete               110943\n",
       "Researcher             90709\n",
       "Military personnel     52911\n",
       "                       ...  \n",
       "Duce                       1\n",
       "Breakdancer                1\n",
       "Fantasy author             1\n",
       "Document                   1\n",
       "Nephrologist               1\n",
       "Name: Occupation, Length: 2468, dtype: int64"
      ]
     },
     "execution_count": 3,
     "metadata": {},
     "output_type": "execute_result"
    }
   ],
   "source": [
    "df = pd.read_csv('AgeDataset.csv')##\n",
    "df['Occupation']=df['Occupation'].str.extract(r'^([^;]+)')\n",
    "df['Occupation'].value_counts()\n"
   ]
  },
  {
   "cell_type": "code",
   "execution_count": 4,
   "id": "5b5c2c86",
   "metadata": {},
   "outputs": [
    {
     "data": {
      "text/html": [
       "<div>\n",
       "<style scoped>\n",
       "    .dataframe tbody tr th:only-of-type {\n",
       "        vertical-align: middle;\n",
       "    }\n",
       "\n",
       "    .dataframe tbody tr th {\n",
       "        vertical-align: top;\n",
       "    }\n",
       "\n",
       "    .dataframe thead th {\n",
       "        text-align: right;\n",
       "    }\n",
       "</style>\n",
       "<table border=\"1\" class=\"dataframe\">\n",
       "  <thead>\n",
       "    <tr style=\"text-align: right;\">\n",
       "      <th></th>\n",
       "      <th>Id</th>\n",
       "      <th>Name</th>\n",
       "      <th>Short description</th>\n",
       "      <th>Gender</th>\n",
       "      <th>Country</th>\n",
       "      <th>Occupation</th>\n",
       "      <th>Birth year</th>\n",
       "      <th>Death year</th>\n",
       "      <th>Manner of death</th>\n",
       "      <th>Age of death</th>\n",
       "    </tr>\n",
       "  </thead>\n",
       "  <tbody>\n",
       "    <tr>\n",
       "      <th>0</th>\n",
       "      <td>Q23</td>\n",
       "      <td>George Washington</td>\n",
       "      <td>1st president of the United States (1732–1799)</td>\n",
       "      <td>Male</td>\n",
       "      <td>United States of America; Kingdom of Great Bri...</td>\n",
       "      <td>Politician</td>\n",
       "      <td>1732</td>\n",
       "      <td>1799.0</td>\n",
       "      <td>natural causes</td>\n",
       "      <td>67.0</td>\n",
       "    </tr>\n",
       "    <tr>\n",
       "      <th>1</th>\n",
       "      <td>Q42</td>\n",
       "      <td>Douglas Adams</td>\n",
       "      <td>English writer and humorist</td>\n",
       "      <td>Male</td>\n",
       "      <td>United Kingdom</td>\n",
       "      <td>Artist</td>\n",
       "      <td>1952</td>\n",
       "      <td>2001.0</td>\n",
       "      <td>natural causes</td>\n",
       "      <td>49.0</td>\n",
       "    </tr>\n",
       "    <tr>\n",
       "      <th>2</th>\n",
       "      <td>Q91</td>\n",
       "      <td>Abraham Lincoln</td>\n",
       "      <td>16th president of the United States (1809-1865)</td>\n",
       "      <td>Male</td>\n",
       "      <td>United States of America</td>\n",
       "      <td>Politician</td>\n",
       "      <td>1809</td>\n",
       "      <td>1865.0</td>\n",
       "      <td>homicide</td>\n",
       "      <td>56.0</td>\n",
       "    </tr>\n",
       "    <tr>\n",
       "      <th>3</th>\n",
       "      <td>Q254</td>\n",
       "      <td>Wolfgang Amadeus Mozart</td>\n",
       "      <td>Austrian composer of the Classical period</td>\n",
       "      <td>Male</td>\n",
       "      <td>Archduchy of Austria; Archbishopric of Salzburg</td>\n",
       "      <td>Artist</td>\n",
       "      <td>1756</td>\n",
       "      <td>1791.0</td>\n",
       "      <td>NaN</td>\n",
       "      <td>35.0</td>\n",
       "    </tr>\n",
       "    <tr>\n",
       "      <th>4</th>\n",
       "      <td>Q255</td>\n",
       "      <td>Ludwig van Beethoven</td>\n",
       "      <td>German classical and romantic composer</td>\n",
       "      <td>Male</td>\n",
       "      <td>Holy Roman Empire; Austrian Empire</td>\n",
       "      <td>Artist</td>\n",
       "      <td>1770</td>\n",
       "      <td>1827.0</td>\n",
       "      <td>NaN</td>\n",
       "      <td>57.0</td>\n",
       "    </tr>\n",
       "  </tbody>\n",
       "</table>\n",
       "</div>"
      ],
      "text/plain": [
       "     Id                     Name  \\\n",
       "0   Q23        George Washington   \n",
       "1   Q42            Douglas Adams   \n",
       "2   Q91          Abraham Lincoln   \n",
       "3  Q254  Wolfgang Amadeus Mozart   \n",
       "4  Q255     Ludwig van Beethoven   \n",
       "\n",
       "                                 Short description Gender  \\\n",
       "0   1st president of the United States (1732–1799)   Male   \n",
       "1                      English writer and humorist   Male   \n",
       "2  16th president of the United States (1809-1865)   Male   \n",
       "3        Austrian composer of the Classical period   Male   \n",
       "4           German classical and romantic composer   Male   \n",
       "\n",
       "                                             Country  Occupation  Birth year  \\\n",
       "0  United States of America; Kingdom of Great Bri...  Politician        1732   \n",
       "1                                     United Kingdom      Artist        1952   \n",
       "2                           United States of America  Politician        1809   \n",
       "3    Archduchy of Austria; Archbishopric of Salzburg      Artist        1756   \n",
       "4                 Holy Roman Empire; Austrian Empire      Artist        1770   \n",
       "\n",
       "   Death year Manner of death  Age of death  \n",
       "0      1799.0  natural causes          67.0  \n",
       "1      2001.0  natural causes          49.0  \n",
       "2      1865.0        homicide          56.0  \n",
       "3      1791.0             NaN          35.0  \n",
       "4      1827.0             NaN          57.0  "
      ]
     },
     "execution_count": 4,
     "metadata": {},
     "output_type": "execute_result"
    }
   ],
   "source": [
    "df.head()\n",
    "## check headers and nans should the exist "
   ]
  },
  {
   "cell_type": "code",
   "execution_count": 5,
   "id": "0e332746",
   "metadata": {},
   "outputs": [],
   "source": [
    "srt1=\"English writer and humorist\""
   ]
  },
  {
   "cell_type": "code",
   "execution_count": 6,
   "id": "a995f6f0",
   "metadata": {},
   "outputs": [
    {
     "data": {
      "text/plain": [
       "' humorist'"
      ]
     },
     "execution_count": 6,
     "metadata": {},
     "output_type": "execute_result"
    }
   ],
   "source": [
    "srt1.split(\"and\")[1]"
   ]
  },
  {
   "cell_type": "code",
   "execution_count": 7,
   "id": "25ee2ae5",
   "metadata": {},
   "outputs": [
    {
     "data": {
      "text/plain": [
       "Id                   0.000000e+00\n",
       "Name                 0.000000e+00\n",
       "Short description    5.551881e-02\n",
       "Gender               1.092764e-01\n",
       "Country              2.743308e-01\n",
       "Occupation           1.691844e-01\n",
       "Birth year           0.000000e+00\n",
       "Death year           8.176555e-07\n",
       "Manner of death      9.561712e-01\n",
       "Age of death         8.176555e-07\n",
       "dtype: float64"
      ]
     },
     "execution_count": 7,
     "metadata": {},
     "output_type": "execute_result"
    }
   ],
   "source": [
    "df.isnull().sum()/len(df)"
   ]
  },
  {
   "cell_type": "code",
   "execution_count": 8,
   "id": "8e5e06bc",
   "metadata": {},
   "outputs": [],
   "source": [
    "df.columns = df.columns.str.lower().str.replace(' ', '_')\n",
    "## replace space with _ and change to lowercase \n"
   ]
  },
  {
   "cell_type": "code",
   "execution_count": 9,
   "id": "3cd74fb2",
   "metadata": {},
   "outputs": [
    {
     "data": {
      "text/plain": [
       "id                    object\n",
       "name                  object\n",
       "short_description     object\n",
       "gender                object\n",
       "country               object\n",
       "occupation            object\n",
       "birth_year             int64\n",
       "death_year           float64\n",
       "manner_of_death       object\n",
       "age_of_death         float64\n",
       "dtype: object"
      ]
     },
     "execution_count": 9,
     "metadata": {},
     "output_type": "execute_result"
    }
   ],
   "source": [
    "df.dtypes"
   ]
  },
  {
   "cell_type": "code",
   "execution_count": 10,
   "id": "c714b7f0",
   "metadata": {},
   "outputs": [],
   "source": [
    "df1=df.loc[(df['age_of_death'] >= 18) & (df['age_of_death'] <= 60)]\n"
   ]
  },
  {
   "cell_type": "code",
   "execution_count": 11,
   "id": "66920058",
   "metadata": {},
   "outputs": [],
   "source": [
    "df1=df1.loc[df['birth_year'] >= 1930]\n"
   ]
  },
  {
   "cell_type": "code",
   "execution_count": 12,
   "id": "7c4269d2",
   "metadata": {},
   "outputs": [
    {
     "data": {
      "text/plain": [
       "id                   0.000000\n",
       "name                 0.000000\n",
       "short_description    0.001858\n",
       "gender               0.005269\n",
       "country              0.007252\n",
       "occupation           0.005358\n",
       "birth_year           0.000000\n",
       "death_year           0.000000\n",
       "manner_of_death      0.035749\n",
       "age_of_death         0.000000\n",
       "dtype: float64"
      ]
     },
     "execution_count": 12,
     "metadata": {},
     "output_type": "execute_result"
    }
   ],
   "source": [
    "df1.isnull().sum()/len(df)"
   ]
  },
  {
   "cell_type": "code",
   "execution_count": 13,
   "id": "c06db4f3",
   "metadata": {},
   "outputs": [
    {
     "data": {
      "text/plain": [
       "NaN                             2272\n",
       "American musician                595\n",
       "American politician              267\n",
       "Ukrainian military personnel     249\n",
       "American baseball player         247\n",
       "                                ... \n",
       "American composer                 42\n",
       "Canadian actor                    41\n",
       "Hungarian actor                   40\n",
       "Russian politician                40\n",
       "actress                           40\n",
       "Name: short_description, Length: 100, dtype: int64"
      ]
     },
     "execution_count": 13,
     "metadata": {},
     "output_type": "execute_result"
    }
   ],
   "source": [
    "df1[\"short_description\"].value_counts(dropna=False).head(100)\n"
   ]
  },
  {
   "cell_type": "code",
   "execution_count": 14,
   "id": "d287601a",
   "metadata": {},
   "outputs": [],
   "source": [
    "df1 = df1.dropna(subset=['short_description'])\n"
   ]
  },
  {
   "cell_type": "code",
   "execution_count": 15,
   "id": "ec77fee4",
   "metadata": {},
   "outputs": [
    {
     "data": {
      "text/html": [
       "<div>\n",
       "<style scoped>\n",
       "    .dataframe tbody tr th:only-of-type {\n",
       "        vertical-align: middle;\n",
       "    }\n",
       "\n",
       "    .dataframe tbody tr th {\n",
       "        vertical-align: top;\n",
       "    }\n",
       "\n",
       "    .dataframe thead th {\n",
       "        text-align: right;\n",
       "    }\n",
       "</style>\n",
       "<table border=\"1\" class=\"dataframe\">\n",
       "  <thead>\n",
       "    <tr style=\"text-align: right;\">\n",
       "      <th></th>\n",
       "      <th>id</th>\n",
       "      <th>name</th>\n",
       "      <th>short_description</th>\n",
       "      <th>gender</th>\n",
       "      <th>country</th>\n",
       "      <th>occupation</th>\n",
       "      <th>birth_year</th>\n",
       "      <th>death_year</th>\n",
       "      <th>manner_of_death</th>\n",
       "      <th>age_of_death</th>\n",
       "    </tr>\n",
       "  </thead>\n",
       "  <tbody>\n",
       "    <tr>\n",
       "      <th>1</th>\n",
       "      <td>Q42</td>\n",
       "      <td>Douglas Adams</td>\n",
       "      <td>English writer and humorist</td>\n",
       "      <td>Male</td>\n",
       "      <td>United Kingdom</td>\n",
       "      <td>Artist</td>\n",
       "      <td>1952</td>\n",
       "      <td>2001.0</td>\n",
       "      <td>natural causes</td>\n",
       "      <td>49.0</td>\n",
       "    </tr>\n",
       "    <tr>\n",
       "      <th>10</th>\n",
       "      <td>Q303</td>\n",
       "      <td>Elvis Presley</td>\n",
       "      <td>American singer and actor (1935–1977)</td>\n",
       "      <td>Male</td>\n",
       "      <td>United States of America</td>\n",
       "      <td>Artist</td>\n",
       "      <td>1935</td>\n",
       "      <td>1977.0</td>\n",
       "      <td>natural causes</td>\n",
       "      <td>42.0</td>\n",
       "    </tr>\n",
       "    <tr>\n",
       "      <th>20</th>\n",
       "      <td>Q407</td>\n",
       "      <td>Linda Lovelace</td>\n",
       "      <td>American pornographic actress, later anti-porn...</td>\n",
       "      <td>Female</td>\n",
       "      <td>United States of America</td>\n",
       "      <td>Artist</td>\n",
       "      <td>1949</td>\n",
       "      <td>2002.0</td>\n",
       "      <td>accident</td>\n",
       "      <td>53.0</td>\n",
       "    </tr>\n",
       "    <tr>\n",
       "      <th>21</th>\n",
       "      <td>Q409</td>\n",
       "      <td>Bob Marley</td>\n",
       "      <td>Jamaican singer, songwriter and musician</td>\n",
       "      <td>Male</td>\n",
       "      <td>Jamaica</td>\n",
       "      <td>Artist</td>\n",
       "      <td>1945</td>\n",
       "      <td>1981.0</td>\n",
       "      <td>natural causes</td>\n",
       "      <td>36.0</td>\n",
       "    </tr>\n",
       "    <tr>\n",
       "      <th>33</th>\n",
       "      <td>Q512</td>\n",
       "      <td>Vladimir Vysotsky</td>\n",
       "      <td>Soviet singer, songwriter, poet and actor</td>\n",
       "      <td>Male</td>\n",
       "      <td>Soviet Union</td>\n",
       "      <td>Artist</td>\n",
       "      <td>1938</td>\n",
       "      <td>1980.0</td>\n",
       "      <td>natural causes</td>\n",
       "      <td>42.0</td>\n",
       "    </tr>\n",
       "    <tr>\n",
       "      <th>...</th>\n",
       "      <td>...</td>\n",
       "      <td>...</td>\n",
       "      <td>...</td>\n",
       "      <td>...</td>\n",
       "      <td>...</td>\n",
       "      <td>...</td>\n",
       "      <td>...</td>\n",
       "      <td>...</td>\n",
       "      <td>...</td>\n",
       "      <td>...</td>\n",
       "    </tr>\n",
       "    <tr>\n",
       "      <th>1222980</th>\n",
       "      <td>Q77039891</td>\n",
       "      <td>Michael Philip Del Rio</td>\n",
       "      <td>actor (1956-2009)</td>\n",
       "      <td>Male</td>\n",
       "      <td>NaN</td>\n",
       "      <td>Artist</td>\n",
       "      <td>1956</td>\n",
       "      <td>2009.0</td>\n",
       "      <td>NaN</td>\n",
       "      <td>53.0</td>\n",
       "    </tr>\n",
       "    <tr>\n",
       "      <th>1222982</th>\n",
       "      <td>Q77049945</td>\n",
       "      <td>Pedro Yauri</td>\n",
       "      <td>journalist uit Peru (1959-1992)</td>\n",
       "      <td>Male</td>\n",
       "      <td>Peru</td>\n",
       "      <td>Journalist</td>\n",
       "      <td>1959</td>\n",
       "      <td>1992.0</td>\n",
       "      <td>NaN</td>\n",
       "      <td>33.0</td>\n",
       "    </tr>\n",
       "    <tr>\n",
       "      <th>1222992</th>\n",
       "      <td>Q77115074</td>\n",
       "      <td>Wim de Vreng</td>\n",
       "      <td>Dutch swimmer</td>\n",
       "      <td>Male</td>\n",
       "      <td>Kingdom of the Netherlands</td>\n",
       "      <td>Athlete</td>\n",
       "      <td>1930</td>\n",
       "      <td>1980.0</td>\n",
       "      <td>NaN</td>\n",
       "      <td>50.0</td>\n",
       "    </tr>\n",
       "    <tr>\n",
       "      <th>1222995</th>\n",
       "      <td>Q77188843</td>\n",
       "      <td>Hilary Stagg</td>\n",
       "      <td>American harpist</td>\n",
       "      <td>NaN</td>\n",
       "      <td>United States of America</td>\n",
       "      <td>NaN</td>\n",
       "      <td>1957</td>\n",
       "      <td>1999.0</td>\n",
       "      <td>NaN</td>\n",
       "      <td>42.0</td>\n",
       "    </tr>\n",
       "    <tr>\n",
       "      <th>1223005</th>\n",
       "      <td>Q77249504</td>\n",
       "      <td>Ron Thorsen</td>\n",
       "      <td>xugador de baloncestu canadianu (1948–2004)</td>\n",
       "      <td>NaN</td>\n",
       "      <td>Canada; United States of America</td>\n",
       "      <td>Athlete</td>\n",
       "      <td>1948</td>\n",
       "      <td>2004.0</td>\n",
       "      <td>NaN</td>\n",
       "      <td>56.0</td>\n",
       "    </tr>\n",
       "  </tbody>\n",
       "</table>\n",
       "<p>47790 rows × 10 columns</p>\n",
       "</div>"
      ],
      "text/plain": [
       "                id                    name  \\\n",
       "1              Q42           Douglas Adams   \n",
       "10            Q303           Elvis Presley   \n",
       "20            Q407          Linda Lovelace   \n",
       "21            Q409              Bob Marley   \n",
       "33            Q512       Vladimir Vysotsky   \n",
       "...            ...                     ...   \n",
       "1222980  Q77039891  Michael Philip Del Rio   \n",
       "1222982  Q77049945             Pedro Yauri   \n",
       "1222992  Q77115074            Wim de Vreng   \n",
       "1222995  Q77188843            Hilary Stagg   \n",
       "1223005  Q77249504             Ron Thorsen   \n",
       "\n",
       "                                         short_description  gender  \\\n",
       "1                              English writer and humorist    Male   \n",
       "10                   American singer and actor (1935–1977)    Male   \n",
       "20       American pornographic actress, later anti-porn...  Female   \n",
       "21                Jamaican singer, songwriter and musician    Male   \n",
       "33               Soviet singer, songwriter, poet and actor    Male   \n",
       "...                                                    ...     ...   \n",
       "1222980                                  actor (1956-2009)    Male   \n",
       "1222982                    journalist uit Peru (1959-1992)    Male   \n",
       "1222992                                      Dutch swimmer    Male   \n",
       "1222995                                   American harpist     NaN   \n",
       "1223005        xugador de baloncestu canadianu (1948–2004)     NaN   \n",
       "\n",
       "                                  country  occupation  birth_year  death_year  \\\n",
       "1                          United Kingdom      Artist        1952      2001.0   \n",
       "10               United States of America      Artist        1935      1977.0   \n",
       "20               United States of America      Artist        1949      2002.0   \n",
       "21                                Jamaica      Artist        1945      1981.0   \n",
       "33                           Soviet Union      Artist        1938      1980.0   \n",
       "...                                   ...         ...         ...         ...   \n",
       "1222980                               NaN      Artist        1956      2009.0   \n",
       "1222982                              Peru  Journalist        1959      1992.0   \n",
       "1222992        Kingdom of the Netherlands     Athlete        1930      1980.0   \n",
       "1222995          United States of America         NaN        1957      1999.0   \n",
       "1223005  Canada; United States of America     Athlete        1948      2004.0   \n",
       "\n",
       "        manner_of_death  age_of_death  \n",
       "1        natural causes          49.0  \n",
       "10       natural causes          42.0  \n",
       "20             accident          53.0  \n",
       "21       natural causes          36.0  \n",
       "33       natural causes          42.0  \n",
       "...                 ...           ...  \n",
       "1222980             NaN          53.0  \n",
       "1222982             NaN          33.0  \n",
       "1222992             NaN          50.0  \n",
       "1222995             NaN          42.0  \n",
       "1223005             NaN          56.0  \n",
       "\n",
       "[47790 rows x 10 columns]"
      ]
     },
     "execution_count": 15,
     "metadata": {},
     "output_type": "execute_result"
    }
   ],
   "source": [
    "counts = df1['occupation'].value_counts()\n",
    "\n",
    "res = df1[~df1['occupation'].isin(counts[counts < 100].index)]\n",
    "res"
   ]
  },
  {
   "cell_type": "code",
   "execution_count": 16,
   "id": "1b553c16",
   "metadata": {},
   "outputs": [
    {
     "data": {
      "text/plain": [
       "Artist                   17541\n",
       "Athlete                  11204\n",
       "Politician                4258\n",
       "Researcher                2572\n",
       "Journalist                1559\n",
       "Military personnel        1543\n",
       "Businessperson             707\n",
       "Teacher                    435\n",
       "Engineer                   358\n",
       "Religious figure           335\n",
       "Lawyer                     222\n",
       "Architect                  219\n",
       "Motorcycle racer           214\n",
       "Physician                  186\n",
       "Serial killer              183\n",
       "Police officer             177\n",
       "Guitarist                  168\n",
       "Professional wrestler      138\n",
       "Pianist                    121\n",
       "Racing driver              121\n",
       "Novelist                   119\n",
       "Model                      115\n",
       "Rower                      113\n",
       "Drummer                    112\n",
       "Amateur wrestler           111\n",
       "Judge                      111\n",
       "Philosopher                107\n",
       "Television presenter       106\n",
       "Name: occupation, dtype: int64"
      ]
     },
     "execution_count": 16,
     "metadata": {},
     "output_type": "execute_result"
    }
   ],
   "source": [
    "res['occupation'].value_counts()"
   ]
  },
  {
   "cell_type": "code",
   "execution_count": 17,
   "id": "9d258d05",
   "metadata": {},
   "outputs": [
    {
     "name": "stderr",
     "output_type": "stream",
     "text": [
      "C:\\Users\\adyto\\AppData\\Local\\Temp\\ipykernel_11480\\2684132647.py:1: SettingWithCopyWarning: \n",
      "A value is trying to be set on a copy of a slice from a DataFrame.\n",
      "Try using .loc[row_indexer,col_indexer] = value instead\n",
      "\n",
      "See the caveats in the documentation: https://pandas.pydata.org/pandas-docs/stable/user_guide/indexing.html#returning-a-view-versus-a-copy\n",
      "  res['country']=df['country'].str.extract(r'^([^;]+)')\n",
      "C:\\Users\\adyto\\AppData\\Local\\Temp\\ipykernel_11480\\2684132647.py:3: SettingWithCopyWarning: \n",
      "A value is trying to be set on a copy of a slice from a DataFrame.\n",
      "Try using .loc[row_indexer,col_indexer] = value instead\n",
      "\n",
      "See the caveats in the documentation: https://pandas.pydata.org/pandas-docs/stable/user_guide/indexing.html#returning-a-view-versus-a-copy\n",
      "  res['manner_of_death']=df['manner_of_death'].str.extract(r'^([^;]+)')\n",
      "C:\\Users\\adyto\\AppData\\Local\\Temp\\ipykernel_11480\\2684132647.py:5: SettingWithCopyWarning: \n",
      "A value is trying to be set on a copy of a slice from a DataFrame.\n",
      "Try using .loc[row_indexer,col_indexer] = value instead\n",
      "\n",
      "See the caveats in the documentation: https://pandas.pydata.org/pandas-docs/stable/user_guide/indexing.html#returning-a-view-versus-a-copy\n",
      "  res['short_description']=df['short_description'].str.extract(r'^([^,]+)')\n"
     ]
    }
   ],
   "source": [
    "res['country']=df['country'].str.extract(r'^([^;]+)')\n",
    "\n",
    "res['manner_of_death']=df['manner_of_death'].str.extract(r'^([^;]+)')\n",
    "\n",
    "res['short_description']=df['short_description'].str.extract(r'^([^,]+)')\n"
   ]
  },
  {
   "cell_type": "code",
   "execution_count": 18,
   "id": "15c6290b",
   "metadata": {},
   "outputs": [],
   "source": [
    "df.short_description = df.short_description.fillna('Unknown')\n"
   ]
  },
  {
   "cell_type": "code",
   "execution_count": 19,
   "id": "fb3c1e50",
   "metadata": {},
   "outputs": [],
   "source": [
    "res = df1[~df1['short_description'].isin(counts[counts < 500].index)]\n",
    "\n",
    "\n",
    "##newjob=[]\n",
    "##for job in res['short_description']:\n",
    "##    newjob.append(job.split(\" \")[1:])\n",
    "\n",
    "##print(newjob)"
   ]
  },
  {
   "cell_type": "code",
   "execution_count": 20,
   "id": "ac9414cb",
   "metadata": {},
   "outputs": [
    {
     "name": "stderr",
     "output_type": "stream",
     "text": [
      "C:\\Users\\adyto\\AppData\\Local\\Temp\\ipykernel_11480\\2715665939.py:1: SettingWithCopyWarning: \n",
      "A value is trying to be set on a copy of a slice from a DataFrame.\n",
      "Try using .loc[row_indexer,col_indexer] = value instead\n",
      "\n",
      "See the caveats in the documentation: https://pandas.pydata.org/pandas-docs/stable/user_guide/indexing.html#returning-a-view-versus-a-copy\n",
      "  res['short_description']=res['short_description'].str.split(' ').str[1]\n"
     ]
    },
    {
     "data": {
      "text/plain": [
       "1                writer\n",
       "10               singer\n",
       "20         pornographic\n",
       "21              singer,\n",
       "33              singer,\n",
       "               ...     \n",
       "1222980     (1956-2009)\n",
       "1222982             uit\n",
       "1222992         swimmer\n",
       "1222995         harpist\n",
       "1223005              de\n",
       "Name: short_description, Length: 53213, dtype: object"
      ]
     },
     "execution_count": 20,
     "metadata": {},
     "output_type": "execute_result"
    }
   ],
   "source": [
    "res['short_description']=res['short_description'].str.split(' ').str[1]\n",
    "i=0\n",
    "\n",
    "res['short_description']"
   ]
  },
  {
   "cell_type": "code",
   "execution_count": 23,
   "id": "740dc161",
   "metadata": {},
   "outputs": [],
   "source": [
    "##def createocc(row):\n",
    "    ##if row['occupation']==\"Artist\":\n",
    "      ##  return row['short_description']\n",
    "    ##else:\n",
    "      ##  return row['occupation']"
   ]
  },
  {
   "cell_type": "code",
   "execution_count": 24,
   "id": "fa5f6285",
   "metadata": {},
   "outputs": [
    {
     "name": "stderr",
     "output_type": "stream",
     "text": [
      "C:\\Users\\adyto\\AppData\\Local\\Temp\\ipykernel_11480\\1124268382.py:1: SettingWithCopyWarning: \n",
      "A value is trying to be set on a copy of a slice from a DataFrame.\n",
      "Try using .loc[row_indexer,col_indexer] = value instead\n",
      "\n",
      "See the caveats in the documentation: https://pandas.pydata.org/pandas-docs/stable/user_guide/indexing.html#returning-a-view-versus-a-copy\n",
      "  res[\"newjobdes\"]=res.apply(createocc, axis=1)\n"
     ]
    }
   ],
   "source": [
    "##res[\"newjobdes\"]=res.apply(createocc, axis=1)"
   ]
  },
  {
   "cell_type": "code",
   "execution_count": 26,
   "id": "94937788",
   "metadata": {},
   "outputs": [
    {
     "data": {
      "text/plain": [
       "Athlete        11203\n",
       "Politician      4258\n",
       "Researcher      2572\n",
       "actor           2110\n",
       "Journalist      1561\n",
       "               ...  \n",
       "religious          1\n",
       "soul/funk          1\n",
       "(1934-1978)        1\n",
       "songwrter          1\n",
       "Condottiero        1\n",
       "Name: newjobdes, Length: 2283, dtype: int64"
      ]
     },
     "execution_count": 26,
     "metadata": {},
     "output_type": "execute_result"
    }
   ],
   "source": [
    "## res[\"newjobdes\"].value_counts()"
   ]
  },
  {
   "cell_type": "code",
   "execution_count": 29,
   "id": "e503a50d",
   "metadata": {},
   "outputs": [
    {
     "ename": "AttributeError",
     "evalue": "'Series' object has no attribute 'lower'",
     "output_type": "error",
     "traceback": [
      "\u001b[1;31m---------------------------------------------------------------------------\u001b[0m",
      "\u001b[1;31mAttributeError\u001b[0m                            Traceback (most recent call last)",
      "\u001b[1;32m~\\AppData\\Local\\Temp\\ipykernel_11480\\1162776292.py\u001b[0m in \u001b[0;36m<module>\u001b[1;34m\u001b[0m\n\u001b[1;32m----> 1\u001b[1;33m \u001b[0mlen\u001b[0m\u001b[1;33m(\u001b[0m\u001b[0mres\u001b[0m\u001b[1;33m[\u001b[0m\u001b[0mres\u001b[0m\u001b[1;33m[\u001b[0m\u001b[1;34m\"newjobdes\"\u001b[0m\u001b[1;33m]\u001b[0m\u001b[1;33m.\u001b[0m\u001b[0mlower\u001b[0m\u001b[1;33m(\u001b[0m\u001b[1;33m)\u001b[0m\u001b[1;33m.\u001b[0m\u001b[0misin\u001b[0m\u001b[1;33m(\u001b[0m\u001b[1;33m[\u001b[0m\u001b[1;34m\"musician\"\u001b[0m\u001b[1;33m,\u001b[0m\u001b[1;34m\"singer\"\u001b[0m\u001b[1;33m]\u001b[0m\u001b[1;33m)\u001b[0m\u001b[1;33m]\u001b[0m\u001b[1;33m)\u001b[0m\u001b[1;33m\u001b[0m\u001b[1;33m\u001b[0m\u001b[0m\n\u001b[0m",
      "\u001b[1;32m~\\anaconda3\\lib\\site-packages\\pandas\\core\\generic.py\u001b[0m in \u001b[0;36m__getattr__\u001b[1;34m(self, name)\u001b[0m\n\u001b[0;32m   5573\u001b[0m         ):\n\u001b[0;32m   5574\u001b[0m             \u001b[1;32mreturn\u001b[0m \u001b[0mself\u001b[0m\u001b[1;33m[\u001b[0m\u001b[0mname\u001b[0m\u001b[1;33m]\u001b[0m\u001b[1;33m\u001b[0m\u001b[1;33m\u001b[0m\u001b[0m\n\u001b[1;32m-> 5575\u001b[1;33m         \u001b[1;32mreturn\u001b[0m \u001b[0mobject\u001b[0m\u001b[1;33m.\u001b[0m\u001b[0m__getattribute__\u001b[0m\u001b[1;33m(\u001b[0m\u001b[0mself\u001b[0m\u001b[1;33m,\u001b[0m \u001b[0mname\u001b[0m\u001b[1;33m)\u001b[0m\u001b[1;33m\u001b[0m\u001b[1;33m\u001b[0m\u001b[0m\n\u001b[0m\u001b[0;32m   5576\u001b[0m \u001b[1;33m\u001b[0m\u001b[0m\n\u001b[0;32m   5577\u001b[0m     \u001b[1;32mdef\u001b[0m \u001b[0m__setattr__\u001b[0m\u001b[1;33m(\u001b[0m\u001b[0mself\u001b[0m\u001b[1;33m,\u001b[0m \u001b[0mname\u001b[0m\u001b[1;33m:\u001b[0m \u001b[0mstr\u001b[0m\u001b[1;33m,\u001b[0m \u001b[0mvalue\u001b[0m\u001b[1;33m)\u001b[0m \u001b[1;33m->\u001b[0m \u001b[1;32mNone\u001b[0m\u001b[1;33m:\u001b[0m\u001b[1;33m\u001b[0m\u001b[1;33m\u001b[0m\u001b[0m\n",
      "\u001b[1;31mAttributeError\u001b[0m: 'Series' object has no attribute 'lower'"
     ]
    }
   ],
   "source": [
    "len(res[res[\"newjobdes\"].isin([\"musician\",\"singer\"])])\n"
   ]
  },
  {
   "cell_type": "code",
   "execution_count": 30,
   "id": "cecb2894",
   "metadata": {},
   "outputs": [],
   "source": [
    "counts = res['country'].value_counts()\n",
    "res = res[~res['country'].isin(counts[counts<100].index)]\n"
   ]
  },
  {
   "cell_type": "code",
   "execution_count": null,
   "id": "05ed85ca",
   "metadata": {},
   "outputs": [],
   "source": [
    "res['country'].value_counts(dropna=False)\n"
   ]
  },
  {
   "cell_type": "code",
   "execution_count": null,
   "id": "de788c74",
   "metadata": {},
   "outputs": [],
   "source": [
    "res = res[~res['gender'].isin(counts[counts<100].index)]\n"
   ]
  },
  {
   "cell_type": "code",
   "execution_count": null,
   "id": "ec725282",
   "metadata": {},
   "outputs": [],
   "source": [
    "res['gender'].value_counts(dropna=False)\n"
   ]
  },
  {
   "cell_type": "code",
   "execution_count": null,
   "id": "7b3f4504",
   "metadata": {},
   "outputs": [],
   "source": [
    "res[res['gender'].isna()]\n",
    "res.gender = res.gender.fillna('Unknown')\n",
    "res=res.dropna(subset=['gender', 'occupation'])\n"
   ]
  },
  {
   "cell_type": "code",
   "execution_count": null,
   "id": "205cec0a",
   "metadata": {},
   "outputs": [],
   "source": [
    "res.isnull().sum()\n"
   ]
  },
  {
   "cell_type": "code",
   "execution_count": null,
   "id": "4e072cc5",
   "metadata": {},
   "outputs": [],
   "source": [
    "res.manner_of_death = res.manner_of_death.fillna('Unknown')\n",
    "res['country']=df['country'].str.extract(r'^([^;]+)')\n",
    "\n",
    "res['manner_of_death']=df['manner_of_death'].str.extract(r'^([^;]+)')\n",
    "\n",
    "res['short_description']=df['short_description'].str.extract(r'^([^,]+)')\n",
    "## as manner_of_death unknown ass there are quite a few and it will delete quite a few informtion as the dataset is slimmed down already it is better to set as unknown "
   ]
  },
  {
   "cell_type": "code",
   "execution_count": null,
   "id": "99bb98f4",
   "metadata": {},
   "outputs": [],
   "source": [
    "\n",
    "res.manner_of_death = res.manner_of_death.fillna('Unknown')\n",
    "res['manner_of_death'].value_counts(dropna=False)\n"
   ]
  },
  {
   "cell_type": "code",
   "execution_count": null,
   "id": "e01a1b40",
   "metadata": {},
   "outputs": [],
   "source": [
    "res.country = res.country.fillna('Unknown')\n",
    "res['country'].value_counts(dropna=False)\n",
    "## as country unknown ass there are quite a few and it will delete quite a few informtion as the dataset is slimmed down already it is better to set as unknown "
   ]
  },
  {
   "cell_type": "code",
   "execution_count": null,
   "id": "a04d10c2",
   "metadata": {},
   "outputs": [],
   "source": [
    "res.isnull().sum()\n",
    "## Data is shown as clean , "
   ]
  },
  {
   "cell_type": "code",
   "execution_count": null,
   "id": "913a655d",
   "metadata": {},
   "outputs": [],
   "source": [
    "res.describe()\n",
    "## trying to analyze some informtaion from the mean and quarterly data \n"
   ]
  },
  {
   "cell_type": "code",
   "execution_count": null,
   "id": "5b0fa8ce",
   "metadata": {},
   "outputs": [],
   "source": [
    "correlations_matrix = res.corr()\n",
    "sns.heatmap(correlations_matrix, annot=True)\n",
    "plt.show()\n",
    "\n",
    "## Cannot see a strong correlations with the num columns , \n",
    "## will try to convert some of the categorical in order to further investigate corr "
   ]
  },
  {
   "cell_type": "code",
   "execution_count": null,
   "id": "7f34ed13",
   "metadata": {},
   "outputs": [],
   "source": [
    "res1=np.where(res['occupation']=='artist')\n",
    "res1"
   ]
  },
  {
   "cell_type": "code",
   "execution_count": null,
   "id": "c0ea8354",
   "metadata": {},
   "outputs": [],
   "source": [
    "res.to_csv(\"X.csv\")"
   ]
  }
 ],
 "metadata": {
  "kernelspec": {
   "display_name": "Python 3 (ipykernel)",
   "language": "python",
   "name": "python3"
  },
  "language_info": {
   "codemirror_mode": {
    "name": "ipython",
    "version": 3
   },
   "file_extension": ".py",
   "mimetype": "text/x-python",
   "name": "python",
   "nbconvert_exporter": "python",
   "pygments_lexer": "ipython3",
   "version": "3.9.13"
  }
 },
 "nbformat": 4,
 "nbformat_minor": 5
}
