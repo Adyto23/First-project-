{
 "cells": [
  {
   "cell_type": "code",
   "execution_count": 1,
   "id": "eaef33ee",
   "metadata": {},
   "outputs": [],
   "source": [
    "import numpy as np\n",
    "import pandas as pd"
   ]
  },
  {
   "cell_type": "code",
   "execution_count": 2,
   "id": "67e2e1fa",
   "metadata": {},
   "outputs": [],
   "source": [
    "df = pd.read_csv('X.csv')\n"
   ]
  },
  {
   "cell_type": "code",
   "execution_count": 3,
   "id": "e5940942",
   "metadata": {},
   "outputs": [
    {
     "data": {
      "text/html": [
       "<div>\n",
       "<style scoped>\n",
       "    .dataframe tbody tr th:only-of-type {\n",
       "        vertical-align: middle;\n",
       "    }\n",
       "\n",
       "    .dataframe tbody tr th {\n",
       "        vertical-align: top;\n",
       "    }\n",
       "\n",
       "    .dataframe thead th {\n",
       "        text-align: right;\n",
       "    }\n",
       "</style>\n",
       "<table border=\"1\" class=\"dataframe\">\n",
       "  <thead>\n",
       "    <tr style=\"text-align: right;\">\n",
       "      <th></th>\n",
       "      <th>Unnamed: 0</th>\n",
       "      <th>id</th>\n",
       "      <th>name</th>\n",
       "      <th>short_description</th>\n",
       "      <th>gender</th>\n",
       "      <th>country</th>\n",
       "      <th>occupation</th>\n",
       "      <th>birth_year</th>\n",
       "      <th>death_year</th>\n",
       "      <th>manner_of_death</th>\n",
       "      <th>age_of_death</th>\n",
       "      <th>newjobdes</th>\n",
       "      <th>agerange</th>\n",
       "    </tr>\n",
       "  </thead>\n",
       "  <tbody>\n",
       "    <tr>\n",
       "      <th>0</th>\n",
       "      <td>1</td>\n",
       "      <td>Q42</td>\n",
       "      <td>Douglas Adams</td>\n",
       "      <td>English writer and humorist</td>\n",
       "      <td>Male</td>\n",
       "      <td>United Kingdom</td>\n",
       "      <td>Artist</td>\n",
       "      <td>1952</td>\n",
       "      <td>2001.0</td>\n",
       "      <td>natural causes</td>\n",
       "      <td>49.0</td>\n",
       "      <td>writer</td>\n",
       "      <td>40-49</td>\n",
       "    </tr>\n",
       "    <tr>\n",
       "      <th>1</th>\n",
       "      <td>10</td>\n",
       "      <td>Q303</td>\n",
       "      <td>Elvis Presley</td>\n",
       "      <td>American singer and actor (1935–1977)</td>\n",
       "      <td>Male</td>\n",
       "      <td>United States of America</td>\n",
       "      <td>Artist</td>\n",
       "      <td>1935</td>\n",
       "      <td>1977.0</td>\n",
       "      <td>natural causes</td>\n",
       "      <td>42.0</td>\n",
       "      <td>singer</td>\n",
       "      <td>40-49</td>\n",
       "    </tr>\n",
       "    <tr>\n",
       "      <th>2</th>\n",
       "      <td>20</td>\n",
       "      <td>Q407</td>\n",
       "      <td>Linda Lovelace</td>\n",
       "      <td>American pornographic actress</td>\n",
       "      <td>Female</td>\n",
       "      <td>United States of America</td>\n",
       "      <td>Artist</td>\n",
       "      <td>1949</td>\n",
       "      <td>2002.0</td>\n",
       "      <td>accident</td>\n",
       "      <td>53.0</td>\n",
       "      <td>pornographic</td>\n",
       "      <td>50-59</td>\n",
       "    </tr>\n",
       "    <tr>\n",
       "      <th>3</th>\n",
       "      <td>33</td>\n",
       "      <td>Q512</td>\n",
       "      <td>Vladimir Vysotsky</td>\n",
       "      <td>Soviet singer</td>\n",
       "      <td>Male</td>\n",
       "      <td>Soviet Union</td>\n",
       "      <td>Artist</td>\n",
       "      <td>1938</td>\n",
       "      <td>1980.0</td>\n",
       "      <td>natural causes</td>\n",
       "      <td>42.0</td>\n",
       "      <td>singer,</td>\n",
       "      <td>40-49</td>\n",
       "    </tr>\n",
       "    <tr>\n",
       "      <th>4</th>\n",
       "      <td>65</td>\n",
       "      <td>Q853</td>\n",
       "      <td>Andrei Tarkovsky</td>\n",
       "      <td>Soviet and Russian filmmaker</td>\n",
       "      <td>Male</td>\n",
       "      <td>Soviet Union</td>\n",
       "      <td>Artist</td>\n",
       "      <td>1932</td>\n",
       "      <td>1986.0</td>\n",
       "      <td>natural causes</td>\n",
       "      <td>54.0</td>\n",
       "      <td>and</td>\n",
       "      <td>50-59</td>\n",
       "    </tr>\n",
       "  </tbody>\n",
       "</table>\n",
       "</div>"
      ],
      "text/plain": [
       "   Unnamed: 0    id               name                      short_description  \\\n",
       "0           1   Q42      Douglas Adams            English writer and humorist   \n",
       "1          10  Q303      Elvis Presley  American singer and actor (1935–1977)   \n",
       "2          20  Q407     Linda Lovelace          American pornographic actress   \n",
       "3          33  Q512  Vladimir Vysotsky                          Soviet singer   \n",
       "4          65  Q853   Andrei Tarkovsky           Soviet and Russian filmmaker   \n",
       "\n",
       "   gender                   country occupation  birth_year  death_year  \\\n",
       "0    Male            United Kingdom     Artist        1952      2001.0   \n",
       "1    Male  United States of America     Artist        1935      1977.0   \n",
       "2  Female  United States of America     Artist        1949      2002.0   \n",
       "3    Male              Soviet Union     Artist        1938      1980.0   \n",
       "4    Male              Soviet Union     Artist        1932      1986.0   \n",
       "\n",
       "  manner_of_death  age_of_death     newjobdes agerange  \n",
       "0  natural causes          49.0        writer    40-49  \n",
       "1  natural causes          42.0        singer    40-49  \n",
       "2        accident          53.0  pornographic    50-59  \n",
       "3  natural causes          42.0       singer,    40-49  \n",
       "4  natural causes          54.0           and    50-59  "
      ]
     },
     "execution_count": 3,
     "metadata": {},
     "output_type": "execute_result"
    }
   ],
   "source": [
    "df.head()"
   ]
  },
  {
   "cell_type": "code",
   "execution_count": 4,
   "id": "233af274",
   "metadata": {},
   "outputs": [],
   "source": [
    "allother=df.loc[df['occupation'] != \"Artist\"]\n"
   ]
  },
  {
   "cell_type": "code",
   "execution_count": 5,
   "id": "59e83941",
   "metadata": {},
   "outputs": [],
   "source": [
    "allother.columns = allother.columns.str.lower().str.replace(' ', '_')\n"
   ]
  },
  {
   "cell_type": "code",
   "execution_count": 6,
   "id": "5ba119b4",
   "metadata": {},
   "outputs": [
    {
     "name": "stderr",
     "output_type": "stream",
     "text": [
      "C:\\Users\\adyto\\AppData\\Local\\Temp\\ipykernel_1812\\4184982682.py:1: SettingWithCopyWarning: \n",
      "A value is trying to be set on a copy of a slice from a DataFrame.\n",
      "Try using .loc[row_indexer,col_indexer] = value instead\n",
      "\n",
      "See the caveats in the documentation: https://pandas.pydata.org/pandas-docs/stable/user_guide/indexing.html#returning-a-view-versus-a-copy\n",
      "  allother.manner_of_death = allother.manner_of_death.fillna('Unknown')\n"
     ]
    },
    {
     "data": {
      "text/plain": [
       "unnamed:_0           0\n",
       "id                   0\n",
       "name                 0\n",
       "short_description    0\n",
       "gender               0\n",
       "country              0\n",
       "occupation           0\n",
       "birth_year           0\n",
       "death_year           0\n",
       "manner_of_death      0\n",
       "age_of_death         0\n",
       "newjobdes            0\n",
       "agerange             0\n",
       "dtype: int64"
      ]
     },
     "execution_count": 6,
     "metadata": {},
     "output_type": "execute_result"
    }
   ],
   "source": [
    "allother.manner_of_death = allother.manner_of_death.fillna('Unknown')\n",
    "allother.isnull().sum()\n"
   ]
  },
  {
   "cell_type": "code",
   "execution_count": 11,
   "id": "620132e3",
   "metadata": {},
   "outputs": [],
   "source": [
    "import scipy.stats\n",
    "\n",
    "confidence_level = 0.95\n",
    "\n",
    "degrees_freedom = len(allother[\"age_of_death\"]) - 1  # or, for large values of sample size, just use that\n",
    "sample_mean = np.mean(allother[\"age_of_death\"])\n",
    "# note that we use the standard error of the sample \n",
    "# as an estimate of the standard error of the population (which is used in the theoretical formula)\n",
    "sample_standard_error = scipy.stats.sem(allother[\"age_of_death\"]) # sem = standard error of the mean = std(patients)/sqrt(samplesize)\n",
    "\n",
    "confidence_interval = scipy.stats.t.interval(confidence_level, \n",
    "                                             degrees_freedom, \n",
    "                                             sample_mean, \n",
    "                                             sample_standard_error)\n",
    "\n",
    "##The null hypothesis (H0): the age_of_death of all others is lower or equals to all artists  , in this case we took the mean of 47.49 of the artists as a limit\n",
    "##The alternative hypothesis: (H1): the the age_of_death is higher than artists"
   ]
  },
  {
   "cell_type": "code",
   "execution_count": 8,
   "id": "098717cd",
   "metadata": {},
   "outputs": [
    {
     "name": "stdout",
     "output_type": "stream",
     "text": [
      "confidence interval is  (46.05841421832248, 46.325891401577024) .\n"
     ]
    }
   ],
   "source": [
    "print( 'confidence interval is ', confidence_interval, '.' )\n",
    "## we can see that the mean is somewhere between 46.05 an 46.3 , at this point we cannot reject H0 at this point "
   ]
  },
  {
   "cell_type": "code",
   "execution_count": 15,
   "id": "b02f09d4",
   "metadata": {},
   "outputs": [
    {
     "name": "stdout",
     "output_type": "stream",
     "text": [
      "stat is   -19.02101291244924\n",
      "pvalue for the one-tailed test is  1.8272620889586285e-80\n"
     ]
    }
   ],
   "source": [
    "from scipy.stats import ttest_1samp\n",
    "stat, pval = ttest_1samp(allother[\"age_of_death\"], 47.49)\n",
    "\n",
    "print('stat is  ', stat)\n",
    "\n",
    "print('pvalue for the one-tailed test is ', pval/2)\n",
    "\n",
    "##pvalue is lower than 0.05 and stat is positive which means that the value of \n",
    "## age_of_death is probably lower than 47.49 but now equal to it not rejecting H0"
   ]
  },
  {
   "cell_type": "code",
   "execution_count": null,
   "id": "b4c60d70",
   "metadata": {},
   "outputs": [],
   "source": []
  }
 ],
 "metadata": {
  "kernelspec": {
   "display_name": "Python 3 (ipykernel)",
   "language": "python",
   "name": "python3"
  },
  "language_info": {
   "codemirror_mode": {
    "name": "ipython",
    "version": 3
   },
   "file_extension": ".py",
   "mimetype": "text/x-python",
   "name": "python",
   "nbconvert_exporter": "python",
   "pygments_lexer": "ipython3",
   "version": "3.9.13"
  }
 },
 "nbformat": 4,
 "nbformat_minor": 5
}
